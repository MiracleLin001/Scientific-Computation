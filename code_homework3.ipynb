{
 "cells": [
  {
   "cell_type": "markdown",
   "metadata": {},
   "source": [
    "## Code Homework 3\n",
    "Using Householder transform to achieve the QR decomposition with and without a column pivoting. Then, using QR decomposition to finish 3.8 on page 154."
   ]
  },
  {
   "cell_type": "markdown",
   "metadata": {},
   "source": [
    "### Part 1: QR and QR-cpivot"
   ]
  },
  {
   "cell_type": "code",
   "execution_count": 2,
   "metadata": {},
   "outputs": [],
   "source": [
    "import numpy as np\n",
    "\n",
    "def hh_reflection(o_vec:np.ndarray, p_vec:np.ndarray) -> np.matrix:\n",
    "    v:np.ndarray\n",
    "    \"\"\"\n",
    "    Hausehold reflection operator\n",
    "    params:\n",
    "        o_vec: the original vector which want to be reflected\n",
    "        p_vec: the direction of reflected vector\n",
    "    return:\n",
    "        hh_ref: the reflection operator\n",
    "    \"\"\"\n",
    "    n = np.size(o_vec,)\n",
    "    v = o_vec - p_vec; v = v.reshape((n,1))\n",
    "    return np.eye(n) - 2 * (v @ v.T) / (v.T @ v)\n",
    "\n",
    "def eye_leftlow_cat(dim:int, mat:np.matrix) -> np.matrix:\n",
    "    \"\"\"\n",
    "    concat an eye matrix and a matrix on the diagnal \n",
    "    input:\n",
    "        mat: the matrix waiting to be concat\n",
    "    output:\n",
    "        mat: [[I,   0],\n",
    "              [0, mat]]\n",
    "    \"\"\"\n",
    "    if dim == 0: return mat # 若 dim = 0 返回原矩阵\n",
    "    mat_dim = mat.shape[0]; \n",
    "    mattop = np.c_[np.eye(dim), np.zeros((dim, mat_dim))] # 水平拼接\n",
    "    matbot = np.c_[np.zeros((mat_dim, dim)), mat]         # 水平拼接\n",
    "    return np.r_[mattop, matbot]                          # 垂直拼接\n",
    "\n",
    "def QR_factorization(mat:np.ndarray):\n",
    "    \"\"\"\n",
    "    QR-factorization of the input matrix using Hausehold Reflection method\n",
    "    input:\n",
    "        mat: the matrix to be QR factorized\n",
    "    output:\n",
    "        Q, R\n",
    "    \"\"\"\n",
    "    dim1 = mat.shape[1]; Q = np.eye(mat.shape[0]) # 初始化 Q 矩阵\n",
    "    for i in range(dim1): \n",
    "        if i == mat.shape[0] - 1: break # 如果是方阵, 最后一个元素不动\n",
    "        tmp_vec = mat[i:,i]; tmp_vec_norm = np.linalg.norm(tmp_vec, ord = 2) # 找到等待反射的向量\n",
    "        reflect_target = np.zeros_like(tmp_vec, dtype = np.float32); reflect_target[0] = tmp_vec_norm # 构造 [|a|,0,,...] 向量\n",
    "        reflect_operator = hh_reflection(tmp_vec, reflect_target) # 计算反射矩阵\n",
    "        reflect_operator = eye_leftlow_cat(dim = i, mat = reflect_operator) # 反射矩阵分块化\n",
    "        Q = Q @ reflect_operator # Q 矩阵累乘\n",
    "        mat = reflect_operator @ mat # 更新 R 矩阵\n",
    "    return Q, mat\n",
    "\n",
    "def QR_factorization_cpivot(mat:np.ndarray):\n",
    "    \"\"\"\n",
    "    QR-factorization of the input matrix using Hausehold Reflection method and column pivot\n",
    "    input:\n",
    "        mat: the matrix to be QR factorized\n",
    "    output:\n",
    "        Q, R, P.Transpose()\n",
    "        P is the permutation matrix which indicates: AP = QR\n",
    "    \"\"\"\n",
    "    def pair_pmat(n, ind1, ind2):\n",
    "        \"\"\"\n",
    "        Calculate the pair permutation matrix which switch the column ind1 and ind2\n",
    "        params:\n",
    "            n: the dimension of mat\n",
    "            ind1, ind2: the index to switch\n",
    "        return:\n",
    "            P: the permutation mat\n",
    "        \"\"\"\n",
    "        P = np.eye(n)\n",
    "        P[ind1, ind1] = 0; P[ind1, ind2] = 1\n",
    "        P[ind2, ind2] = 0; P[ind2, ind1] = 1\n",
    "        return P\n",
    "\n",
    "    dim1 = mat.shape[1]; Q, P = np.eye(mat.shape[0]), np.eye(mat.shape[1]) # 初始化 Q, P 矩阵\n",
    "    for i in range(dim1): \n",
    "        if i == mat.shape[0] - 1: break # 如果是方阵, 最后一个元素不动\n",
    "        pivot_ind = np.argmax(np.abs(mat[i,:])) # 主元位置\n",
    "        pivot = mat[i, pivot_ind]; P_tmp = pair_pmat(dim1, i, pivot_ind)\n",
    "        mat = mat @ P_tmp\n",
    "        tmp_vec = mat[i:,i]; tmp_vec_norm = np.linalg.norm(tmp_vec, ord = 2) # 找到等待反射的向量\n",
    "        reflect_target = np.zeros_like(tmp_vec, dtype = np.float32); reflect_target[0] = tmp_vec_norm # 构造 [|a|,0,,...] 向量\n",
    "        reflect_operator = hh_reflection(tmp_vec, reflect_target) # 计算反射矩阵\n",
    "        reflect_operator = eye_leftlow_cat(dim = i, mat = reflect_operator) # 反射矩阵分块化\n",
    "        Q = Q @ reflect_operator # Q 矩阵累乘\n",
    "        mat = reflect_operator @ mat # 更新 R 矩阵\n",
    "        P = P @ P_tmp # 更新 P 矩阵\n",
    "    return Q, mat, P.T\n"
   ]
  },
  {
   "cell_type": "markdown",
   "metadata": {},
   "source": [
    "### Part 2 Solution for 3.8 on page 154"
   ]
  },
  {
   "cell_type": "code",
   "execution_count": 3,
   "metadata": {},
   "outputs": [],
   "source": [
    "from numpy.linalg  import cholesky\n",
    "from numpy.polynomial.polynomial import polyval\n",
    "import seaborn as sns\n",
    "\n",
    "m = 21; n = 12; eps = 1e-10; c0 = np.ones(n)\n",
    "t = np.linspace(0, 1, m); y0 = polyval(x = t, c = c0)\n",
    "y0 = y0 + (np.random.uniform(low = 0, high = 1, size = y0.shape) * 2 - 1) * eps\n",
    "\n",
    "\n",
    "# Van der Monde 矩阵\n",
    "Vo = np.vander(t, N = n, increasing=True)"
   ]
  },
  {
   "cell_type": "code",
   "execution_count": 4,
   "metadata": {},
   "outputs": [
    {
     "name": "stdout",
     "output_type": "stream",
     "text": [
      "The mean error of normal equation is 0.2405970760853434\n"
     ]
    }
   ],
   "source": [
    "# 法线方程部分\n",
    "L = cholesky(Vo.T @ Vo) # cholesky factorization\n",
    "b = Vo.T @ y0           # 法线方程右端\n",
    "tmp_c = np.linalg.solve(L, b); c_normal = np.linalg.solve(L.T, tmp_c)\n",
    "error_normal = np.linalg.norm(c_normal - c0)\n",
    "print(\"The mean error of normal equation is\", error_normal)"
   ]
  },
  {
   "cell_type": "code",
   "execution_count": 5,
   "metadata": {},
   "outputs": [
    {
     "name": "stdout",
     "output_type": "stream",
     "text": [
      "The mean error of nQR method is 0.0008159293896571562\n"
     ]
    }
   ],
   "source": [
    "# QR 分解部分\n",
    "Q, R = QR_factorization(Vo) # QR factorization without column pivot\n",
    "R = R[:R.shape[1],:]        # 丢掉 0 行\n",
    "b = (Q.T @ y0)[:R.shape[1]] # 等式右侧也同样去掉相同的行\n",
    "c_qr = np.linalg.solve(R, b)\n",
    "error_qr = np.linalg.norm(c_qr - c0)\n",
    "print(\"The mean error of nQR method is\", error_qr)\n"
   ]
  },
  {
   "cell_type": "code",
   "execution_count": 6,
   "metadata": {},
   "outputs": [
    {
     "name": "stdout",
     "output_type": "stream",
     "text": [
      "The mean error of cpivot-QR method is 0.0008148157222561522\n"
     ]
    }
   ],
   "source": [
    "# cpivot-QR 分解部分\n",
    "Q, R, P = QR_factorization_cpivot(Vo) # QR factorization with column pivot\n",
    "R = R[:R.shape[1],:]        # 丢掉 0 行\n",
    "b = (Q.T @ y0)[:R.shape[1]] # 等式右侧也同样去掉相同的行\n",
    "c_qr = np.linalg.solve(R, b)\n",
    "c_qr_cpivot = P.T @ c_qr\n",
    "error_qr_pivot = np.linalg.norm(c_qr_cpivot - c0)\n",
    "print(\"The mean error of cpivot-QR method is\", error_qr_pivot)"
   ]
  },
  {
   "cell_type": "markdown",
   "metadata": {},
   "source": [
    "可见 QR 分解在较为病态问题上的效果是明显好于法线方程方法的"
   ]
  }
 ],
 "metadata": {
  "kernelspec": {
   "display_name": "Python 3.10.4 ('torch')",
   "language": "python",
   "name": "python3"
  },
  "language_info": {
   "codemirror_mode": {
    "name": "ipython",
    "version": 3
   },
   "file_extension": ".py",
   "mimetype": "text/x-python",
   "name": "python",
   "nbconvert_exporter": "python",
   "pygments_lexer": "ipython3",
   "version": "3.10.4"
  },
  "orig_nbformat": 4,
  "vscode": {
   "interpreter": {
    "hash": "f31b5846fe4d0e510ff280a80fa1fd1567c5c662c3b99a86eb737e0309da4a2e"
   }
  }
 },
 "nbformat": 4,
 "nbformat_minor": 2
}
