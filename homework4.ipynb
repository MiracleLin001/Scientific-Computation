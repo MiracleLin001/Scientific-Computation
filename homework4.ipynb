{
 "cells": [
  {
   "cell_type": "code",
   "execution_count": null,
   "metadata": {},
   "outputs": [],
   "source": [
    "import numpy as np\n",
    "import matplotlib.pyplot as plt\n",
    "import seaborn as sns"
   ]
  },
  {
   "attachments": {},
   "cell_type": "markdown",
   "metadata": {},
   "source": [
    "### 1\n",
    "Write the functions to achieve \n",
    "\n",
    "(1) Arnoldi iteration and Lanczos iteration; \n",
    "\n",
    "(2) QR iteration for Hessenberg matrix to find the eigenvalue decomposition.\n",
    "\n",
    " Test these algorithms for a few matrix."
   ]
  },
  {
   "cell_type": "code",
   "execution_count": null,
   "metadata": {},
   "outputs": [],
   "source": [
    "def Arnoldi_iter(A, x_0):\n",
    "    '''Arnoldi Iteration'''\n",
    "    n = A.shape[0] # 初始化设置\n",
    "    Q = np.zeros([n, n]); Q[:, 0] = x_0 / np.linalg.norm(x_0, ord=2)\n",
    "    U, H = np.zeros([n, n]), np.zeros([n, n])\n",
    "\n",
    "    # 循环主体\n",
    "    for k in range(n):\n",
    "        U[:, k] = A @ Q[:, k]\n",
    "        for j in range(k+1):\n",
    "            H[j, k] = Q[:, j].T @ U[:, k]\n",
    "            U[:, k] = U[:, k] - H[j, k] * Q[:, j]\n",
    "        try:\n",
    "            H[k+1, k] = np.linalg.norm(U[:, k], ord=2)\n",
    "            if H[k+1, k]==0:\n",
    "                break\n",
    "            Q[:, k+1] = U[:, k] / H[k+1, k]\n",
    "        except:\n",
    "            pass\n",
    "\n",
    "    return Q, U, H\n",
    "\n",
    "# TEST\n",
    "A = np.random.random([4, 4])\n",
    "x_0 = np.ones(4)\n",
    "Q, U ,H = Arnoldi_iter(A, x_0)\n",
    "A @ Q - Q @ H"
   ]
  },
  {
   "cell_type": "code",
   "execution_count": null,
   "metadata": {},
   "outputs": [],
   "source": [
    "def Lanczos_iter(A, x_0):\n",
    "    '''Lanczos Iteration'''\n",
    "    # 初始化设置\n",
    "    n = A.shape[0]\n",
    "    Q = np.zeros([n, n + 1]); Q[:, 1] = x_0 / np.linalg.norm(x_0, ord=2)\n",
    "    beta = np.zeros(n + 1); alpha = np.zeros(n + 1)\n",
    "    U = np.zeros([n, n+1])\n",
    "    H = np.zeros([n, n])\n",
    "\n",
    "    for k in range(1, n+1):\n",
    "        U[:, k] = A @ Q[:, k]\n",
    "        alpha[k] = Q[:, k].T @ U[:, k]\n",
    "        U[:, k] = U[:, k] - beta[k-1] * Q[:, k-1] - alpha[k] * Q[:, k]\n",
    "        beta[k] = np.linalg.norm(U[:, k], ord=2)\n",
    "        if beta[k]==0:\n",
    "            break\n",
    "        try:\n",
    "            Q[:, k+1] = U[:, k] / beta[k]\n",
    "        except:\n",
    "            pass\n",
    "    for i in range(n):\n",
    "        H[i, i] = alpha[i+1]\n",
    "\n",
    "    for i in range(n-1):\n",
    "        H[i, i+1] = beta[i+1]\n",
    "        H[i+1, i] = beta[i+1]\n",
    "\n",
    "    Q = Q[:, 1:n+1]\n",
    "    return Q, U, H\n",
    "\n",
    "# TEST\n",
    "A = np.random.random([4, 4])\n",
    "x_0 = np.ones(4)\n",
    "Q, U ,H = Arnoldi_iter(A, x_0)\n",
    "A @ Q - Q @ H"
   ]
  },
  {
   "cell_type": "code",
   "execution_count": null,
   "metadata": {},
   "outputs": [],
   "source": [
    "def QRSplit(A):\n",
    "    '''QR iteration'''\n",
    "    n = A.shape[0]; R = A.copy()\n",
    "    for i in range(0, n-1):\n",
    "        B = R.copy()\n",
    "        if i != 0:\n",
    "            B = B[i:,i:]\n",
    "        x = B[:,0]\n",
    "        y = np.zeros(n-i); y[0] = np.linalg.norm(x)\n",
    "        w = x - y; w = w / np.linalg.norm(w)\n",
    "        H = np.eye(n-i) - 2*np.dot(w.reshape(n-i, 1), w.reshape(1, n-i))\n",
    "        if i == 0: \n",
    "            Q = H.copy(); R = H @ R\n",
    "        else:\n",
    "            D = np.c_[np.eye(i), np.zeros((i, n-i))]\n",
    "            H = np.c_[np.zeros((n-i, i)), H]\n",
    "            H = np.r_[D, H]\n",
    "            Q = H @ Q\n",
    "            R = H @ R\n",
    "    Q = Q.T\n",
    "    return Q, R\n",
    "\n",
    "H = np.random.random([4, 4])\n",
    "for i in range(4):\n",
    "    for j in range(4):\n",
    "        if i>j+1:\n",
    "            H[i, j] = 0\n",
    "print(H)\n",
    "for i in range(100):\n",
    "    Q, R = QRSplit(H)\n",
    "    H = R @ Q\n",
    "print(H)"
   ]
  },
  {
   "attachments": {},
   "cell_type": "markdown",
   "metadata": {},
   "source": [
    "### 2\n",
    "For a second order differential equation $\\left(D(x) u^{\\prime}(x)\\right)^{\\prime}=b(x)$, a central difference method to solve the equation is $\\frac{D\\left(x_{i+\\frac{1}{2}}\\right)\\left(u\\left(x_{i+1}\\right)-u\\left(x_i\\right)\\right)-D\\left(x_{i-\\frac{1}{2}}\\right)\\left(u\\left(x_i\\right)-u\\left(x_{i-1}\\right)\\right)}{h^2}=b\\left(x_i\\right)$, where $x_i$ are equally spaced nodes in interval $[a, b](i=0,1,2, \\ldots, N), x_{i+\\frac{1}{2}}$ are the midpoint of $x_i$ and $x_{i+1}$, and $h=$ $\\frac{b-a}{N}$. For the following cases,\n",
    "\n",
    "1) $\\quad D(x)=1,[a, b]=[-1,1], N=100$;\n",
    "   \n",
    "2) $\\quad D(x)=e^x,[a, b]=[-5,5], N=100$\n",
    "   \n",
    "\n",
    "Construct the coefficient matrix of the discretized linear system, then calculate the eigenvalues, eigenvectors, and condition number of the system. Compare the results for the two cases. For the second case, if you divide each row of the matrix by the corresponding diagonal element (and the right hand side term of the linear equation), how would it change the condition number?"
   ]
  },
  {
   "attachments": {},
   "cell_type": "markdown",
   "metadata": {},
   "source": [
    "第一种情况已经在作业纸上写明；下面只讨论第二种情况"
   ]
  },
  {
   "cell_type": "code",
   "execution_count": 14,
   "metadata": {},
   "outputs": [
    {
     "name": "stdout",
     "output_type": "stream",
     "text": [
      "[[-1.34927424e-02  7.08340893e-03  0.00000000e+00 ...  0.00000000e+00\n",
      "   0.00000000e+00  0.00000000e+00]\n",
      " [ 7.08340893e-03 -1.49117865e-02  7.82837755e-03 ...  0.00000000e+00\n",
      "   0.00000000e+00  0.00000000e+00]\n",
      " [ 0.00000000e+00  7.82837755e-03 -1.64800728e-02 ...  0.00000000e+00\n",
      "   0.00000000e+00  0.00000000e+00]\n",
      " ...\n",
      " [ 0.00000000e+00  0.00000000e+00  0.00000000e+00 ... -2.43324674e+02\n",
      "   1.27740390e+02  0.00000000e+00]\n",
      " [ 0.00000000e+00  0.00000000e+00  0.00000000e+00 ...  1.27740390e+02\n",
      "  -2.68915354e+02  1.41174964e+02]\n",
      " [ 0.00000000e+00  0.00000000e+00  0.00000000e+00 ...  0.00000000e+00\n",
      "   1.41174964e+02 -2.97197428e+02]]\n"
     ]
    }
   ],
   "source": [
    "D_2: lambda x: np.exp(x)\n",
    "\n",
    "a_2 = -5\n",
    "b_2 = 5\n",
    "N = 100\n",
    "\n",
    "x_2 = np.linspace(a_2, b_2, N+1, endpoint=True)\n",
    "d_2 = (b_2 - a_2) / N\n",
    "\n",
    "D2 = np.zeros([N+1, N+1])\n",
    "for i in range(N+1):\n",
    "    D2[i, i] = - D_2(x_2[i]+d_2/2) - D_2(x_2[i]-d_2/2)\n",
    "\n",
    "\n",
    "for i in range(N):\n",
    "    D2[i, i+1] = D_2(x_2[i]+d_2/2)\n",
    "    D2[i+1, i] = D_2(x_2[i]+d_2/2)\n",
    "\n",
    "print(D2)"
   ]
  },
  {
   "attachments": {},
   "cell_type": "markdown",
   "metadata": {},
   "source": [
    "可见 D2 和 第一问中的情况相同，都是三对角矩阵"
   ]
  },
  {
   "cell_type": "code",
   "execution_count": 15,
   "metadata": {},
   "outputs": [
    {
     "name": "stdout",
     "output_type": "stream",
     "text": [
      "3985599.4087922075\n",
      "13597.619254051388\n"
     ]
    }
   ],
   "source": [
    "# 不处理\n",
    "Lambda2, P2 = np.linalg.eig(D2)\n",
    "condition2 = np.linalg.norm(D2) * np.linalg.norm(np.linalg.inv(D2))\n",
    "print(condition2)\n",
    "# divide each row of the matrix by the corresponding diagonal element\n",
    "D2 = D2 / np.diagonal(D2)\n",
    "condition2 = np.linalg.norm(D2) * np.linalg.norm(np.linalg.inv(D2))\n",
    "print(condition2)"
   ]
  },
  {
   "attachments": {},
   "cell_type": "markdown",
   "metadata": {},
   "source": [
    "可见经过这样的调整之后条件数大大减小"
   ]
  },
  {
   "attachments": {},
   "cell_type": "markdown",
   "metadata": {},
   "source": [
    "### 3\n",
    "Write the functions to achieve Newton’s method and Broyden’s method. Test these methods for a few equation systems."
   ]
  },
  {
   "cell_type": "code",
   "execution_count": null,
   "metadata": {},
   "outputs": [],
   "source": [
    "\"\"\" 牛顿法 \"\"\"\n",
    "f1 = lambda x: 2 * x[0]**2 + x[1]**2 - 1\n",
    "f2 = lambda x: 5 * x[0] * x[1]\n",
    "J = lambda x: [[4 * x[0], 2 * x[1]], [5 * x[1], 5 * x[0]]]\n",
    "\n",
    "x = [0.1, 0.5]\n",
    "for i in range(10):\n",
    "    x = x - np.linalg.inv(J(x)) @ [f1(x), f2(x)]\n",
    "print(x)"
   ]
  },
  {
   "cell_type": "code",
   "execution_count": null,
   "metadata": {},
   "outputs": [],
   "source": [
    "\"\"\" Broyden \"\"\"\n",
    "x = np.zeros([11, 2])\n",
    "x[0] = [0.1, 0.9]\n",
    "B = J(x[0])\n",
    "for i in range(1, 10):\n",
    "    s = - np.linalg.inv(B) @ [f1(x[i]), f2(x[i])]\n",
    "    x[i+1] = x[i] + s\n",
    "    y = np.array([f1(x[i+1]) - f1(x[i]), f2(x[i+1]) - f2(x[i])])\n",
    "    B = B + ((y - B @ s) @ s.T) / (s.T @ s)\n",
    "print(x[-1])"
   ]
  },
  {
   "attachments": {},
   "cell_type": "markdown",
   "metadata": {},
   "source": [
    "可见都能达到真实解"
   ]
  }
 ],
 "metadata": {
  "kernelspec": {
   "display_name": "torch",
   "language": "python",
   "name": "python3"
  },
  "language_info": {
   "codemirror_mode": {
    "name": "ipython",
    "version": 3
   },
   "file_extension": ".py",
   "mimetype": "text/x-python",
   "name": "python",
   "nbconvert_exporter": "python",
   "pygments_lexer": "ipython3",
   "version": "3.10.8"
  },
  "orig_nbformat": 4,
  "vscode": {
   "interpreter": {
    "hash": "690c9ea092c8a6fc9517542155c4d05fadb9e10c4733225e6f103cd30826cc12"
   }
  }
 },
 "nbformat": 4,
 "nbformat_minor": 2
}
