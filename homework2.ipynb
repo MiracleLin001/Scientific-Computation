{
 "cells": [
  {
   "cell_type": "markdown",
   "metadata": {
    "slideshow": {
     "slide_type": "notes"
    }
   },
   "source": [
    "## Problem\n",
    "\n",
    "1. Using Gaussian elimination to achieve the LU decomposition with and without a column pivoting; \n",
    "\n",
    "2. Using the two LU decomposition algorithm to solve linear systems in which the coefficient matrix is (1) general nonsingular matrix; (2) positive definite matrix; (3) diagonally dominant matrix.  \n",
    "   \n",
    "3. Compare the numerical accuracy for the two algorithms."
   ]
  },
  {
   "cell_type": "code",
   "execution_count": 47,
   "metadata": {},
   "outputs": [],
   "source": [
    "import numpy as np\n",
    "\n",
    "def pair_pmat(n, ind1, ind2):\n",
    "    \"\"\"\n",
    "    Calculate the pair permutation matrix which switch the column ind1 and ind2\n",
    "    params:\n",
    "        n: the dimension of mat\n",
    "        ind1, ind2: the index to switch\n",
    "    return:\n",
    "        P: the permutation mat\n",
    "    \"\"\"\n",
    "    P = np.eye(n)\n",
    "    P[ind1, ind1] = 0; P[ind1, ind2] = 1\n",
    "    P[ind2, ind2] = 0; P[ind2, ind1] = 1\n",
    "    return P\n",
    "\n",
    "def LU_pivot(mat:np.matrix) -> tuple[np.matrix, np.matrix, np.matrix]:\n",
    "    \"\"\"\n",
    "    LU factorization by Guassian elimination with column pivoting\n",
    "    param:\n",
    "        mat: the matrix that needs LU factorization\n",
    "    return:\n",
    "        lower-diag matrix, upper-diag matrix, permutation matrix\n",
    "    \"\"\"\n",
    "    n = np.size(mat, 0)\n",
    "    L = np.eye(n); U = mat.copy(); P = np.eye(n)\n",
    "    for k in range(n-1): # 每一行的计算步骤\n",
    "        pivot_ind = np.argmax(np.abs(U[k,:])) # 主元位置\n",
    "        pivot = U[k, pivot_ind]; P_tmp = pair_pmat(n, k, pivot_ind)\n",
    "        P = P @ P_tmp; U = U @ P_tmp\n",
    "        for kp in range(k+1,n):\n",
    "            L[kp, k] = U[kp, k] / U[k, k] # 更新 L 第一列\n",
    "            U[kp,:] = U[kp,:] - L[kp,k] * U[k,:] # 更新 U 第 2-n 列\n",
    "    return L, U, P.T\n",
    "\n",
    "def LU(mat:np.matrix) -> tuple[np.matrix, np.matrix]:\n",
    "    \"\"\"\n",
    "    LU factorization by Guassian elimination without column pivoting\n",
    "    param:\n",
    "        mat: the matrix that needs LU factorization\n",
    "    return:\n",
    "        lower-diag matrix, upper-diag matrix\n",
    "    \"\"\"\n",
    "    n = np.size(mat, 0)\n",
    "    L = np.eye(n); U = mat.copy()\n",
    "    for k in range(n-1): # 每一行的计算步骤\n",
    "        for kp in range(k+1,n):\n",
    "            L[kp, k] = U[kp, k] / U[k, k] # 更新 L 第一列\n",
    "            U[kp,:] = U[kp,:] - L[kp,k] * U[k,:] # 更新 U 第 2-n 列\n",
    "    return L, U\n",
    "        \n",
    "def LU_accuracy(mat, *factorization):\n",
    "    \"\"\"\n",
    "    Calculate the accuracy of LU decomposition\n",
    "    params:\n",
    "        mat: the matrix that will be decomposited\n",
    "        factorization: the factor matries of mat\n",
    "    return:\n",
    "        the inf norm of (mat - @ factorization)\n",
    "    \"\"\"\n",
    "    factor_mul = np.linalg.multi_dot(*factorization)\n",
    "    accu = np.linalg.norm(mat - factor_mul, ord = np.inf)\n",
    "    return accu"
   ]
  },
  {
   "cell_type": "markdown",
   "metadata": {},
   "source": [
    "以上是解决本次问题需要的函数，下面将详细解释每个函数的作用：\n",
    "1. pair_pmat 函数用于创建一个仅仅执行一次对换的置换矩阵，也就是产生对换第 i 行和第 j 行的置换矩阵\n",
    "2. LU_pivot 采用的算法是主元 LU 分解，需要多次置换矩阵参与\n",
    "3. LU 采用的是非主元 LU 分解\n",
    "4. LU_accuracy 是用于检测 LU 矩阵分解的精确度的，精确度定义如下：\n",
    "   $$\n",
    "   accu = \\Vert A - LUP^T \\Vert_\\infty\n",
    "   $$\n",
    "   其中 A 是 LU 分解的对象，L,U,P 均是 LU 分解产生的下三角、上三角与置换矩阵"
   ]
  },
  {
   "cell_type": "code",
   "execution_count": 48,
   "metadata": {},
   "outputs": [
    {
     "name": "stdout",
     "output_type": "stream",
     "text": [
      "rank of A is 1000\n",
      "The accuracy of A's LU factorization without column pivot is 6.7607794401909616e-09\n",
      "The accuracy of A's LU factorization with column pivot is 7.996693964559126e-12\n"
     ]
    }
   ],
   "source": [
    "# general nonsingular matrix\n",
    "np.random.seed(822)\n",
    "A = np.random.randn(1000, 1000)\n",
    "print(\"rank of A is\",np.linalg.matrix_rank(A))\n",
    "print(\"The accuracy of A\\'s LU factorization without column pivot is\", LU_accuracy(A, LU(A)))\n",
    "print(\"The accuracy of A\\'s LU factorization with column pivot is\", LU_accuracy(A, LU_pivot(A)))"
   ]
  },
  {
   "cell_type": "code",
   "execution_count": 51,
   "metadata": {},
   "outputs": [
    {
     "name": "stdout",
     "output_type": "stream",
     "text": [
      "rank of B is 1000\n",
      "The accuracy of B's LU factorization without column pivot is 2.2741015667793185e-11\n",
      "The accuracy of B's LU factorization with column pivot is 2.2741015667793185e-11\n"
     ]
    }
   ],
   "source": [
    "# positive definite matrix\n",
    "np.random.seed(521)\n",
    "B = np.random.randn(1000, 1000)\n",
    "print(\"rank of B is\",np.linalg.matrix_rank(B))\n",
    "B = B.T @ B\n",
    "print(\"The accuracy of B\\'s LU factorization without column pivot is\", LU_accuracy(B, LU(B)))\n",
    "print(\"The accuracy of B\\'s LU factorization with column pivot is\", LU_accuracy(B, LU_pivot(B)))"
   ]
  },
  {
   "cell_type": "code",
   "execution_count": 50,
   "metadata": {},
   "outputs": [
    {
     "name": "stdout",
     "output_type": "stream",
     "text": [
      "rank of C is 1000\n",
      "The accuracy of C's LU factorization without column pivot is 6.578126064693546e-12\n",
      "The accuracy of C's LU factorization with column pivot is 6.578126064693546e-12\n"
     ]
    }
   ],
   "source": [
    "# diagonally dominant matrix\n",
    "np.random.seed(515)\n",
    "C = np.random.randn(1000, 1000)\n",
    "C = C + np.diag(np.linalg.norm(C, axis = 1, ord = 1))*2\n",
    "print(\"rank of C is\",np.linalg.matrix_rank(C))\n",
    "print(\"The accuracy of C\\'s LU factorization without column pivot is\", LU_accuracy(C, LU(C)))\n",
    "print(\"The accuracy of C\\'s LU factorization with column pivot is\", LU_accuracy(C, LU_pivot(C)))"
   ]
  },
  {
   "cell_type": "markdown",
   "metadata": {},
   "source": [
    "结果明显可见：对于完全随机产生的矩阵 A, LU_pivot 的精度更高；但是对于本身就是正定矩阵或者对角优势的矩阵， LU_pivot 和 LU 的效果是相同的。"
   ]
  }
 ],
 "metadata": {
  "kernelspec": {
   "display_name": "Python 3.10.4 ('torch')",
   "language": "python",
   "name": "python3"
  },
  "language_info": {
   "codemirror_mode": {
    "name": "ipython",
    "version": 3
   },
   "file_extension": ".py",
   "mimetype": "text/x-python",
   "name": "python",
   "nbconvert_exporter": "python",
   "pygments_lexer": "ipython3",
   "version": "3.10.4"
  },
  "orig_nbformat": 4,
  "vscode": {
   "interpreter": {
    "hash": "f31b5846fe4d0e510ff280a80fa1fd1567c5c662c3b99a86eb737e0309da4a2e"
   }
  }
 },
 "nbformat": 4,
 "nbformat_minor": 2
}
